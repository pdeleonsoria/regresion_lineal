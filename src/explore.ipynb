{
    "cells": [
        {
            "cell_type": "markdown",
            "metadata": {},
            "source": [
                "# Explore here"
            ]
        },
        {
            "cell_type": "code",
            "execution_count": 34,
            "metadata": {},
            "outputs": [
                {
                    "name": "stdout",
                    "output_type": "stream",
                    "text": [
                        "                            OLS Regression Results                            \n",
                        "==============================================================================\n",
                        "Dep. Variable:                charges   R-squared:                       0.751\n",
                        "Model:                            OLS   Adj. R-squared:                  0.750\n",
                        "Method:                 Least Squares   F-statistic:                     668.1\n",
                        "Date:                Wed, 21 Aug 2024   Prob (F-statistic):               0.00\n",
                        "Time:                        18:32:29   Log-Likelihood:                -13548.\n",
                        "No. Observations:                1338   AIC:                         2.711e+04\n",
                        "Df Residuals:                    1331   BIC:                         2.715e+04\n",
                        "Df Model:                           6                                         \n",
                        "Covariance Type:            nonrobust                                         \n",
                        "==============================================================================\n",
                        "                 coef    std err          t      P>|t|      [0.025      0.975]\n",
                        "------------------------------------------------------------------------------\n",
                        "const      -1.182e+04    955.130    -12.371      0.000   -1.37e+04   -9941.729\n",
                        "age          257.2881     11.886     21.647      0.000     233.971     280.605\n",
                        "sex         -131.1106    332.811     -0.394      0.694    -784.001     521.780\n",
                        "bmi          332.5701     27.722     11.997      0.000     278.186     386.954\n",
                        "children     479.3694    137.644      3.483      0.001     209.346     749.393\n",
                        "smoker      2.382e+04    411.843     57.839      0.000     2.3e+04    2.46e+04\n",
                        "region      -353.6400    151.927     -2.328      0.020    -651.682     -55.598\n",
                        "==============================================================================\n",
                        "Omnibus:                      299.003   Durbin-Watson:                   2.088\n",
                        "Prob(Omnibus):                  0.000   Jarque-Bera (JB):              713.975\n",
                        "Skew:                           1.207   Prob(JB):                    9.17e-156\n",
                        "Kurtosis:                       5.642   Cond. No.                         296.\n",
                        "==============================================================================\n",
                        "\n",
                        "Notes:\n",
                        "[1] Standard Errors assume that the covariance matrix of the errors is correctly specified.\n"
                    ]
                }
            ],
            "source": [
                "# Your code here\n",
                "\n",
                "import pandas as pd\n",
                "#Importar el csv:\n",
                "\n",
                "url= \"https://raw.githubusercontent.com/4GeeksAcademy/linear-regression-project-tutorial/main/medical_insurance_cost.csv\"\n",
                "\n",
                "df= pd.read_csv(url)\n",
                "df.head()\n",
                "\n",
                "df.drop(\"bmi\",axis=1)\n",
                "\n",
                "#Compruebo si en región hay pocos datos(esto en realidad era curiosidad):\n",
                "valores_unicos = df['region'].unique()\n",
                "\n",
                "#Convierto los valores cualitativos en cuantitativos:\n",
                "from sklearn.preprocessing import LabelEncoder\n",
                "le= LabelEncoder()\n",
                "\n",
                "df[\"region\"]= le.fit_transform(df[\"region\"])\n",
                "df[\"sex\"]= le.fit_transform(df[\"sex\"])\n",
                "df[\"smoker\"]= le.fit_transform(df[\"smoker\"])\n",
                "\n",
                "#Eliminar duplicados:\n",
                "df.drop_duplicates()\n",
                "df.head()\n",
                "#Resumen de correlación de datos\n",
                "import statsmodels.api as sm\n",
                "\n",
                "X = df.drop(['charges'], axis=1)\n",
                "y = df[\"charges\"]\n",
                "X = sm.add_constant(X)\n",
                "model = sm.OLS(y, X)\n",
                "results = model.fit()\n",
                "print(results.summary())\n",
                "\n"
            ]
        },
        {
            "cell_type": "markdown",
            "metadata": {},
            "source": [
                "Según los datos: \n",
                "La edad aumenta en 257.2881 unidades el precio medio del seguro de salud.\n",
                "El sexo p>0.1 por lo que no es relevante y la variable smoker es la que más incrementa el precio del seguro. \n",
                "El bmi aumenta en 332.5701 unidades el precio medio del seguro de salud.\n",
                "El número de hijos aumenta en 479.3694 unidades el precio medio del seguro de salud.\n",
                "Ser fumador aumenta en 23820 unidades el precio medio del seguro de salud.\n",
                "La región puede cambiar el precio del seguro de salud \n",
                "\n",
                "El valor de R-cuadrado muestra que la variabilidad del precio del seguro de salud está explicado en un 75% con estas variables\n",
                "\n",
                "Además, la región en la que vives puede disminuir el precio del seguro. Siendo "
            ]
        }
    ],
    "metadata": {
        "kernelspec": {
            "display_name": "Python 3.8.13 64-bit ('3.8.13')",
            "language": "python",
            "name": "python3"
        },
        "language_info": {
            "codemirror_mode": {
                "name": "ipython",
                "version": 3
            },
            "file_extension": ".py",
            "mimetype": "text/x-python",
            "name": "python",
            "nbconvert_exporter": "python",
            "pygments_lexer": "ipython3",
            "version": "3.12.4"
        },
        "orig_nbformat": 4,
        "vscode": {
            "interpreter": {
                "hash": "110cc1dee26208153f2972f08a2ad52b6a56238dc66d48e87fb757ef2996db56"
            }
        }
    },
    "nbformat": 4,
    "nbformat_minor": 2
}
